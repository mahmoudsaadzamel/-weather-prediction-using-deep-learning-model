{
 "cells": [
  {
   "cell_type": "code",
   "execution_count": 1,
   "metadata": {
    "id": "D8k1kGkbJ8iD"
   },
   "outputs": [],
   "source": [
    "import numpy as np\n",
    "import pandas as pd\n",
    "\n",
    "import tensorflow as tf\n",
    "import pandas as pd\n",
    "import cv2\n",
    "import os\n",
    "import matplotlib.pyplot as plt\n",
    "from tqdm import tqdm\n",
    "from random import shuffle\n",
    "\n",
    "from tensorflow import keras\n",
    "from tensorflow.keras import datasets, layers, models,Model\n",
    "from tensorflow.keras.models import Sequential\n",
    "\n",
    "from keras.layers import Conv2D, MaxPool2D,  \\\n",
    "    Dropout, Dense, Input, concatenate,      \\\n",
    "    GlobalAveragePooling2D, AveragePooling2D,\\\n",
    "    Flatten\n",
    "\n",
    "from keras.callbacks import LearningRateScheduler"
   ]
  },
  {
   "cell_type": "code",
   "execution_count": 1,
   "metadata": {
    "id": "hbeUBcC1MJom"
   },
   "outputs": [],
   "source": []
  },
  {
   "cell_type": "code",
   "execution_count": 2,
   "metadata": {
    "colab": {
     "base_uri": "https://localhost:8080/"
    },
    "id": "m_0PJJCWMRnn",
    "outputId": "f305494f-f4bd-4169-e7f1-45aad6fb3ff9"
   },
   "outputs": [
    {
     "name": "stdout",
     "output_type": "stream",
     "text": [
      "Looking in indexes: https://pypi.org/simple, https://us-python.pkg.dev/colab-wheels/public/simple/\n",
      "Requirement already satisfied: kaggle in /usr/local/lib/python3.7/dist-packages (1.5.12)\n",
      "Requirement already satisfied: requests in /usr/local/lib/python3.7/dist-packages (from kaggle) (2.23.0)\n",
      "Requirement already satisfied: urllib3 in /usr/local/lib/python3.7/dist-packages (from kaggle) (1.24.3)\n",
      "Requirement already satisfied: tqdm in /usr/local/lib/python3.7/dist-packages (from kaggle) (4.64.0)\n",
      "Requirement already satisfied: python-slugify in /usr/local/lib/python3.7/dist-packages (from kaggle) (6.1.2)\n",
      "Requirement already satisfied: certifi in /usr/local/lib/python3.7/dist-packages (from kaggle) (2022.5.18.1)\n",
      "Requirement already satisfied: six>=1.10 in /usr/local/lib/python3.7/dist-packages (from kaggle) (1.15.0)\n",
      "Requirement already satisfied: python-dateutil in /usr/local/lib/python3.7/dist-packages (from kaggle) (2.8.2)\n",
      "Requirement already satisfied: text-unidecode>=1.3 in /usr/local/lib/python3.7/dist-packages (from python-slugify->kaggle) (1.3)\n",
      "Requirement already satisfied: chardet<4,>=3.0.2 in /usr/local/lib/python3.7/dist-packages (from requests->kaggle) (3.0.4)\n",
      "Requirement already satisfied: idna<3,>=2.5 in /usr/local/lib/python3.7/dist-packages (from requests->kaggle) (2.10)\n",
      "Downloading nn22-weather-analysis-using-image-recognition.zip to /content\n",
      " 97% 569M/586M [00:03<00:00, 165MB/s]\n",
      "100% 586M/586M [00:03<00:00, 164MB/s]\n"
     ]
    }
   ],
   "source": [
    "#! pip install kaggle\n",
    "#! mkdir ~/.kaggle\n",
    "#! cp kaggle.json ~/.kaggle/\n",
    "#! chmod 600 ~/.kaggle/kaggle.json\n",
    "#!kaggle competitions download -c nn22-weather-analysis-using-image-recognition\n",
    " \n"
   ]
  },
  {
   "cell_type": "code",
   "execution_count": 3,
   "metadata": {
    "id": "k-08kdnBf2pR"
   },
   "outputs": [],
   "source": [
    "#from zipfile import ZipFile\n",
    "#with ZipFile('/content/nn22-weather-analysis-using-image-recognition.zip','r') as zipobj:\n",
    "#  zipobj.extractall()"
   ]
  },
  {
   "cell_type": "code",
   "execution_count": 4,
   "metadata": {
    "id": "54nLx10W4KKh"
   },
   "outputs": [],
   "source": [
    "Data_Generator=tf.keras.preprocessing.image.ImageDataGenerator(\n",
    "    rotation_range=20,\n",
    "    width_shift_range=0.2,\n",
    "    brightness_range=[0.2,1],\n",
    "    zoom_range=0.2,\n",
    "    horizontal_flip=True,\n",
    ")"
   ]
  },
  {
   "cell_type": "code",
   "execution_count": 5,
   "metadata": {
    "colab": {
     "base_uri": "https://localhost:8080/"
    },
    "id": "8k7jsjv2u4Rv",
    "outputId": "de2f370c-9683-42eb-bb96-b745c13fc26a"
   },
   "outputs": [
    {
     "name": "stdout",
     "output_type": "stream",
     "text": [
      "520\n"
     ]
    },
    {
     "name": "stderr",
     "output_type": "stream",
     "text": [
      "  0%|          | 0/520 [00:00<?, ?it/s]\n"
     ]
    },
    {
     "name": "stdout",
     "output_type": "stream",
     "text": [
      "520\n",
      "538\n"
     ]
    },
    {
     "name": "stderr",
     "output_type": "stream",
     "text": [
      "  0%|          | 0/538 [00:00<?, ?it/s]\n"
     ]
    },
    {
     "name": "stdout",
     "output_type": "stream",
     "text": [
      "538\n",
      "450\n"
     ]
    },
    {
     "name": "stderr",
     "output_type": "stream",
     "text": [
      "  2%|▏         | 7/450 [00:01<01:07,  6.52it/s]\n"
     ]
    },
    {
     "name": "stdout",
     "output_type": "stream",
     "text": [
      "513\n",
      "276\n"
     ]
    },
    {
     "name": "stderr",
     "output_type": "stream",
     "text": [
      "  9%|▉         | 26/276 [00:02<00:27,  9.07it/s]\n"
     ]
    },
    {
     "name": "stdout",
     "output_type": "stream",
     "text": [
      "510\n",
      "551\n"
     ]
    },
    {
     "name": "stderr",
     "output_type": "stream",
     "text": [
      "  0%|          | 0/551 [00:00<?, ?it/s]\n"
     ]
    },
    {
     "name": "stdout",
     "output_type": "stream",
     "text": [
      "551\n",
      "1059\n"
     ]
    },
    {
     "name": "stderr",
     "output_type": "stream",
     "text": [
      "  0%|          | 0/1059 [00:00<?, ?it/s]\n"
     ]
    },
    {
     "name": "stdout",
     "output_type": "stream",
     "text": [
      "1059\n",
      "750\n"
     ]
    },
    {
     "name": "stderr",
     "output_type": "stream",
     "text": [
      "  0%|          | 0/750 [00:00<?, ?it/s]\n"
     ]
    },
    {
     "name": "stdout",
     "output_type": "stream",
     "text": [
      "750\n",
      "557\n"
     ]
    },
    {
     "name": "stderr",
     "output_type": "stream",
     "text": [
      "  0%|          | 0/557 [00:00<?, ?it/s]\n"
     ]
    },
    {
     "name": "stdout",
     "output_type": "stream",
     "text": [
      "557\n",
      "334\n"
     ]
    },
    {
     "name": "stderr",
     "output_type": "stream",
     "text": [
      "  6%|▌         | 20/334 [00:04<01:05,  4.80it/s]\n"
     ]
    },
    {
     "name": "stdout",
     "output_type": "stream",
     "text": [
      "514\n",
      "385\n"
     ]
    },
    {
     "name": "stderr",
     "output_type": "stream",
     "text": [
      "  4%|▎         | 14/385 [00:02<01:14,  4.95it/s]\n"
     ]
    },
    {
     "name": "stdout",
     "output_type": "stream",
     "text": [
      "511\n",
      "131\n"
     ]
    },
    {
     "name": "stderr",
     "output_type": "stream",
     "text": [
      " 32%|███▏      | 42/131 [00:07<00:16,  5.47it/s]"
     ]
    },
    {
     "name": "stdout",
     "output_type": "stream",
     "text": [
      "509\n"
     ]
    },
    {
     "name": "stderr",
     "output_type": "stream",
     "text": [
      "\n"
     ]
    }
   ],
   "source": [
    "Train_Data=os.listdir(r'E:\\Dataset\\Train')\n",
    "IMG_SIZE = 175\n",
    "train_folder=\"E:\\Dataset\\Train\"\n",
    "def create_image_augmentation():\n",
    "\n",
    "  training_data = []\n",
    "  testing_data = []\n",
    "  for folder in Train_Data:\n",
    "    x=train_folder+'/'+folder\n",
    "    index=len(os.listdir(x))\n",
    "    print(index)\n",
    "    for img in tqdm(os.listdir(x)):\n",
    "          if index>505:\n",
    "             break  \n",
    "          path = os.path.join(x, img)\n",
    "          img_data = cv2.imread(path)\n",
    "          try:\n",
    "             img_data = cv2.resize(img_data, (IMG_SIZE, IMG_SIZE))\n",
    "             img_data=np.array([img_data]).reshape(-1, IMG_SIZE, IMG_SIZE, 3).astype('float32')\n",
    "          except:\n",
    "            print(img)\n",
    "            continue\n",
    "          word_label = img.split('_')[0]\n",
    "          count=0\n",
    "          for i in Data_Generator.flow(img_data,batch_size=1,save_to_dir=x,save_prefix=word_label,save_format='jpg'):\n",
    "            count+=1\n",
    "            if count>9:\n",
    "              break\n",
    "          index+=9  \n",
    "    print(index)\n",
    "create_image_augmentation()\n"
   ]
  },
  {
   "cell_type": "code",
   "execution_count": 6,
   "metadata": {
    "colab": {
     "base_uri": "https://localhost:8080/"
    },
    "id": "oW9c4L5KDXXo",
    "outputId": "4f0b3206-e9bb-4b32-9875-479c98189b58"
   },
   "outputs": [
    {
     "name": "stderr",
     "output_type": "stream",
     "text": [
      " 97%|█████████▋| 506/520 [00:02<00:00, 225.60it/s]\n",
      " 94%|█████████▍| 506/538 [00:01<00:00, 372.85it/s]\n",
      " 97%|█████████▋| 506/520 [00:01<00:00, 279.03it/s]\n",
      " 95%|█████████▌| 506/531 [00:01<00:00, 425.44it/s]\n",
      " 92%|█████████▏| 506/551 [00:02<00:00, 228.49it/s]\n",
      " 48%|████▊     | 506/1059 [00:02<00:02, 186.82it/s]\n",
      " 68%|██████▊   | 507/750 [00:02<00:00, 250.12it/s]\n",
      " 91%|█████████ | 506/557 [00:03<00:00, 138.35it/s]\n",
      " 95%|█████████▌| 506/530 [00:03<00:00, 147.90it/s]\n",
      " 97%|█████████▋| 506/523 [00:01<00:00, 372.27it/s]\n",
      " 93%|█████████▎| 506/543 [00:00<00:00, 755.49it/s]\n"
     ]
    }
   ],
   "source": [
    "Train_Data=os.listdir(train_folder)\n",
    "IMG_SIZE = 175\n",
    "def create_label(image_name):\n",
    "    \"\"\" Create an one-hot encoded vector from image name \"\"\"\n",
    "    word_label = image_name.split('_')[0]\n",
    "    if word_label == 'dew':\n",
    "        return np.array([1,0,0,0,0,0,0,0,0,0,0])\n",
    "    elif word_label == 'fogsmog':\n",
    "        return np.array([0,1,0,0,0,0,0,0,0,0,0])\n",
    "    elif word_label == 'frost':\n",
    "        return np.array([0,0,1,0,0,0,0,0,0,0,0])\n",
    "    elif word_label == 'glaze':\n",
    "        return np.array([0,0,0,1,0,0,0,0,0,0,0])\n",
    "    elif word_label == 'hail':\n",
    "        return np.array([0,0,0,0,1,0,0,0,0,0,0])\n",
    "    elif word_label == 'lightning':\n",
    "        return np.array([0,0,0,0,0,1,0,0,0,0,0])\n",
    "    elif word_label == 'rain':\n",
    "        return np.array([0,0,0,0,0,0,1,0,0,0,0])\n",
    "    elif word_label == 'rainbow':\n",
    "        return np.array([0,0,0,0,0,0,0,1,0,0,0])\n",
    "    elif word_label == 'rime':\n",
    "        return np.array([0,0,0,0,0,0,0,0,1,0,0])\n",
    "    elif word_label == 'sandstorm':\n",
    "        return np.array([0,0,0,0,0,0,0,0,0,1,0])    \n",
    "    elif word_label == 'snow':\n",
    "        return np.array([0,0,0,0,0,0,0,0,0,0,1])\n",
    "\n",
    "def create_train_data():\n",
    "    training_data = []\n",
    "    testing_data = []\n",
    "    for folder in Train_Data:\n",
    "        x=train_folder+'/'+folder\n",
    "        index=0\n",
    "        for img in tqdm(os.listdir(x)): \n",
    "              if index>505:\n",
    "                break  \n",
    "              path = os.path.join(x, img)\n",
    "              img_data = cv2.imread(path)\n",
    "              try:\n",
    "                img_data = cv2.resize(img_data, (IMG_SIZE, IMG_SIZE))\n",
    "              except:\n",
    "                continue\n",
    "              training_data.append([np.array(img_data), create_label(img)])\n",
    "              index+=1\n",
    "    X_train=np.array([i[0] for i in training_data]).reshape(-1, IMG_SIZE, IMG_SIZE, 3).astype('float32')\n",
    "    y_train = np.array([i[1] for i in training_data]).reshape(-1,11).astype('float32')\n",
    "    return X_train,y_train\n",
    "    \n",
    "X_train,y_train= create_train_data()\n"
   ]
  },
  {
   "cell_type": "code",
   "execution_count": 7,
   "metadata": {
    "colab": {
     "base_uri": "https://localhost:8080/"
    },
    "id": "RG0AQqBxFZ1d",
    "outputId": "05a9bc6d-7c82-49b5-e494-5c3796833a37"
   },
   "outputs": [
    {
     "name": "stdout",
     "output_type": "stream",
     "text": [
      "(5566, 175, 175, 3)\n",
      "(5566, 11)\n"
     ]
    }
   ],
   "source": [
    "print(X_train.shape)\n",
    "\n",
    "print(y_train.shape)"
   ]
  },
  {
   "cell_type": "code",
   "execution_count": 8,
   "metadata": {
    "colab": {
     "base_uri": "https://localhost:8080/"
    },
    "id": "p1br1Yvo4IK6",
    "outputId": "bfdabb08-f6d3-4980-f1d8-633e97f56e30"
   },
   "outputs": [
    {
     "name": "stdout",
     "output_type": "stream",
     "text": [
      "Downloading data from https://github.com/fchollet/deep-learning-models/releases/download/v0.1/vgg19_weights_tf_dim_ordering_tf_kernels_notop.h5\n",
      "80142336/80134624 [==============================] - 1s 0us/step\n",
      "80150528/80134624 [==============================] - 1s 0us/step\n"
     ]
    }
   ],
   "source": [
    "from keras.utils.data_utils import get_file\n",
    "\n",
    "WEIGHTS_PATH_NO_TOP = ('https://github.com/fchollet/deep-learning-models/'\n",
    "                       'releases/download/v0.1/'\n",
    "                       'vgg19_weights_tf_dim_ordering_tf_kernels_notop.h5')\n",
    "\n",
    "weights_path = get_file('vgg19_weights_tf_dim_ordering_tf_kernels_notop.h5',WEIGHTS_PATH_NO_TOP)"
   ]
  },
  {
   "cell_type": "code",
   "execution_count": 9,
   "metadata": {
    "id": "zxy8Vjpe2Yaq"
   },
   "outputs": [],
   "source": [
    "model = Sequential([\n",
    "    layers.Rescaling(1./255,input_shape=(175,175,3)),\n",
    "    Conv2D(filters=64,kernel_size=(3,3),padding=\"same\", activation=\"relu\"),\n",
    "    Conv2D(filters=64,kernel_size=(3,3),padding=\"same\", activation=\"relu\"),\n",
    "    MaxPool2D(pool_size=(2,2),strides=(2,2)),\n",
    "    \n",
    "    Conv2D(filters=128,kernel_size=(3,3),padding=\"same\", activation=\"relu\"),\n",
    "    Conv2D(filters=128,kernel_size=(3,3),padding=\"same\", activation=\"relu\"),\n",
    "    MaxPool2D(pool_size=(2,2),strides=(2,2)),\n",
    "    \n",
    "    Conv2D(filters=256,kernel_size=(3,3),padding=\"same\", activation=\"relu\"),\n",
    "    Conv2D(filters=256,kernel_size=(3,3),padding=\"same\", activation=\"relu\"),\n",
    "    Conv2D(filters=256,kernel_size=(3,3),padding=\"same\", activation=\"relu\"),\n",
    "    Conv2D(filters=256,kernel_size=(3,3),padding=\"same\", activation=\"relu\"),\n",
    "    MaxPool2D(pool_size=(2,2),strides=(2,2)),\n",
    "    \n",
    "    Conv2D(filters=512,kernel_size=(3,3),padding=\"same\", activation=\"relu\"),\n",
    "    Conv2D(filters=512,kernel_size=(3,3),padding=\"same\", activation=\"relu\"),\n",
    "    Conv2D(filters=512,kernel_size=(3,3),padding=\"same\", activation=\"relu\"),\n",
    "    Conv2D(filters=512,kernel_size=(3,3),padding=\"same\", activation=\"relu\"),\n",
    "    MaxPool2D(pool_size=(2,2),strides=(2,2)),\n",
    "\n",
    "    Conv2D(filters=512,kernel_size=(3,3),padding=\"same\", activation=\"relu\"),\n",
    "    Conv2D(filters=512,kernel_size=(3,3),padding=\"same\", activation=\"relu\"),\n",
    "    Conv2D(filters=512,kernel_size=(3,3),padding=\"same\", activation=\"relu\"),\n",
    "    Conv2D(filters=512,kernel_size=(3,3),padding=\"same\", activation=\"relu\"),\n",
    "    MaxPool2D(pool_size=(2,2),strides=(2,2))\n",
    "])"
   ]
  },
  {
   "cell_type": "code",
   "execution_count": 10,
   "metadata": {
    "id": "sHFFqhhTI210"
   },
   "outputs": [],
   "source": [
    "model.load_weights(weights_path)\n",
    "model.add(Flatten())\n",
    "model.add(Dense(units=4096,activation=\"relu\"))\n",
    "model.add(Dense(units=4096,activation=\"relu\"))\n",
    "model.add(Dense(units=11, activation=\"softmax\"))"
   ]
  },
  {
   "cell_type": "code",
   "execution_count": 10,
   "metadata": {
    "id": "Xtj41iFz4lrX"
   },
   "outputs": [],
   "source": [
    "#uncomment to load model\n",
    "#model = keras.models.load_model(r\"C:\\Users\\Lenovo\\Desktop\\NEURAL\\vgg19_1.h5\")"
   ]
  },
  {
   "cell_type": "code",
   "execution_count": 11,
   "metadata": {
    "colab": {
     "base_uri": "https://localhost:8080/"
    },
    "id": "7k7vkiVjhahm",
    "outputId": "ee13d803-ebf2-4a8a-ed61-233a4579b793"
   },
   "outputs": [
    {
     "name": "stdout",
     "output_type": "stream",
     "text": [
      "Model: \"sequential\"\n",
      "_________________________________________________________________\n",
      " Layer (type)                Output Shape              Param #   \n",
      "=================================================================\n",
      " rescaling (Rescaling)       (None, 175, 175, 3)       0         \n",
      "                                                                 \n",
      " conv2d (Conv2D)             (None, 175, 175, 64)      1792      \n",
      "                                                                 \n",
      " conv2d_1 (Conv2D)           (None, 175, 175, 64)      36928     \n",
      "                                                                 \n",
      " max_pooling2d (MaxPooling2D  (None, 87, 87, 64)       0         \n",
      " )                                                               \n",
      "                                                                 \n",
      " conv2d_2 (Conv2D)           (None, 87, 87, 128)       73856     \n",
      "                                                                 \n",
      " conv2d_3 (Conv2D)           (None, 87, 87, 128)       147584    \n",
      "                                                                 \n",
      " max_pooling2d_1 (MaxPooling  (None, 43, 43, 128)      0         \n",
      " 2D)                                                             \n",
      "                                                                 \n",
      " conv2d_4 (Conv2D)           (None, 43, 43, 256)       295168    \n",
      "                                                                 \n",
      " conv2d_5 (Conv2D)           (None, 43, 43, 256)       590080    \n",
      "                                                                 \n",
      " conv2d_6 (Conv2D)           (None, 43, 43, 256)       590080    \n",
      "                                                                 \n",
      " conv2d_7 (Conv2D)           (None, 43, 43, 256)       590080    \n",
      "                                                                 \n",
      " max_pooling2d_2 (MaxPooling  (None, 21, 21, 256)      0         \n",
      " 2D)                                                             \n",
      "                                                                 \n",
      " conv2d_8 (Conv2D)           (None, 21, 21, 512)       1180160   \n",
      "                                                                 \n",
      " conv2d_9 (Conv2D)           (None, 21, 21, 512)       2359808   \n",
      "                                                                 \n",
      " conv2d_10 (Conv2D)          (None, 21, 21, 512)       2359808   \n",
      "                                                                 \n",
      " conv2d_11 (Conv2D)          (None, 21, 21, 512)       2359808   \n",
      "                                                                 \n",
      " max_pooling2d_3 (MaxPooling  (None, 10, 10, 512)      0         \n",
      " 2D)                                                             \n",
      "                                                                 \n",
      " conv2d_12 (Conv2D)          (None, 10, 10, 512)       2359808   \n",
      "                                                                 \n",
      " conv2d_13 (Conv2D)          (None, 10, 10, 512)       2359808   \n",
      "                                                                 \n",
      " conv2d_14 (Conv2D)          (None, 10, 10, 512)       2359808   \n",
      "                                                                 \n",
      " conv2d_15 (Conv2D)          (None, 10, 10, 512)       2359808   \n",
      "                                                                 \n",
      " max_pooling2d_4 (MaxPooling  (None, 5, 5, 512)        0         \n",
      " 2D)                                                             \n",
      "                                                                 \n",
      " flatten (Flatten)           (None, 12800)             0         \n",
      "                                                                 \n",
      " dense (Dense)               (None, 4096)              52432896  \n",
      "                                                                 \n",
      " dense_1 (Dense)             (None, 4096)              16781312  \n",
      "                                                                 \n",
      " dense_2 (Dense)             (None, 11)                45067     \n",
      "                                                                 \n",
      "=================================================================\n",
      "Total params: 89,283,659\n",
      "Trainable params: 89,283,659\n",
      "Non-trainable params: 0\n",
      "_________________________________________________________________\n"
     ]
    },
    {
     "name": "stderr",
     "output_type": "stream",
     "text": [
      "/usr/local/lib/python3.7/dist-packages/keras/optimizer_v2/gradient_descent.py:102: UserWarning: The `lr` argument is deprecated, use `learning_rate` instead.\n",
      "  super(SGD, self).__init__(name, **kwargs)\n"
     ]
    }
   ],
   "source": [
    "\n",
    "opt = keras.optimizers.SGD(lr=0.0001)\n",
    "model.compile(optimizer=opt, loss=keras.losses.categorical_crossentropy, metrics=['accuracy'])\n",
    "model.summary()\n"
   ]
  },
  {
   "cell_type": "code",
   "execution_count": 12,
   "metadata": {
    "colab": {
     "base_uri": "https://localhost:8080/"
    },
    "id": "NKBvLvTfsMgD",
    "outputId": "21f0c561-bc54-4e74-ef71-8e1ef535a5c6"
   },
   "outputs": [
    {
     "name": "stdout",
     "output_type": "stream",
     "text": [
      "Epoch 1/10\n",
      "5565/5566 [============================>.] - ETA: 0s - loss: 1.0120 - accuracy: 0.6433\n",
      "Epoch 1: val_loss improved from inf to 0.49544, saving model to vgg19_1.h5\n",
      "5566/5566 [==============================] - 271s 46ms/step - loss: 1.0118 - accuracy: 0.6434 - val_loss: 0.4954 - val_accuracy: 0.8209\n",
      "Epoch 2/10\n",
      "5566/5566 [==============================] - ETA: 0s - loss: 0.4166 - accuracy: 0.8559\n",
      "Epoch 2: val_loss improved from 0.49544 to 0.35524, saving model to vgg19_1.h5\n",
      "5566/5566 [==============================] - 251s 45ms/step - loss: 0.4166 - accuracy: 0.8559 - val_loss: 0.3552 - val_accuracy: 0.8789\n",
      "Epoch 3/10\n",
      "5565/5566 [============================>.] - ETA: 0s - loss: 0.2686 - accuracy: 0.9035\n",
      "Epoch 3: val_loss improved from 0.35524 to 0.17327, saving model to vgg19_1.h5\n",
      "5566/5566 [==============================] - 251s 45ms/step - loss: 0.2686 - accuracy: 0.9035 - val_loss: 0.1733 - val_accuracy: 0.9436\n",
      "Epoch 4/10\n",
      "5566/5566 [==============================] - ETA: 0s - loss: 0.1811 - accuracy: 0.9395\n",
      "Epoch 4: val_loss improved from 0.17327 to 0.16947, saving model to vgg19_1.h5\n",
      "5566/5566 [==============================] - 251s 45ms/step - loss: 0.1811 - accuracy: 0.9395 - val_loss: 0.1695 - val_accuracy: 0.9457\n",
      "Epoch 5/10\n",
      "5566/5566 [==============================] - ETA: 0s - loss: 0.0958 - accuracy: 0.9686\n",
      "Epoch 5: val_loss did not improve from 0.16947\n",
      "5566/5566 [==============================] - 250s 45ms/step - loss: 0.0958 - accuracy: 0.9686 - val_loss: 0.1963 - val_accuracy: 0.9218\n",
      "Epoch 6/10\n",
      "5565/5566 [============================>.] - ETA: 0s - loss: 0.0590 - accuracy: 0.9838\n",
      "Epoch 6: val_loss improved from 0.16947 to 0.04373, saving model to vgg19_1.h5\n",
      "5566/5566 [==============================] - 252s 45ms/step - loss: 0.0590 - accuracy: 0.9838 - val_loss: 0.0437 - val_accuracy: 0.9865\n",
      "Epoch 7/10\n",
      "5566/5566 [==============================] - ETA: 0s - loss: 0.0454 - accuracy: 0.9878\n",
      "Epoch 7: val_loss improved from 0.04373 to 0.03119, saving model to vgg19_1.h5\n",
      "5566/5566 [==============================] - 252s 45ms/step - loss: 0.0454 - accuracy: 0.9878 - val_loss: 0.0312 - val_accuracy: 0.9903\n",
      "Epoch 8/10\n",
      "5565/5566 [============================>.] - ETA: 0s - loss: 0.0319 - accuracy: 0.9907\n",
      "Epoch 8: val_loss improved from 0.03119 to 0.01046, saving model to vgg19_1.h5\n",
      "5566/5566 [==============================] - 251s 45ms/step - loss: 0.0319 - accuracy: 0.9907 - val_loss: 0.0105 - val_accuracy: 0.9986\n",
      "Epoch 9/10\n",
      "5566/5566 [==============================] - ETA: 0s - loss: 0.0180 - accuracy: 0.9962\n",
      "Epoch 9: val_loss improved from 0.01046 to 0.00407, saving model to vgg19_1.h5\n",
      "5566/5566 [==============================] - 251s 45ms/step - loss: 0.0180 - accuracy: 0.9962 - val_loss: 0.0041 - val_accuracy: 0.9996\n",
      "Epoch 10/10\n",
      "5566/5566 [==============================] - ETA: 0s - loss: 0.0068 - accuracy: 0.9987\n",
      "Epoch 10: val_loss improved from 0.00407 to 0.00405, saving model to vgg19_1.h5\n",
      "5566/5566 [==============================] - 251s 45ms/step - loss: 0.0068 - accuracy: 0.9987 - val_loss: 0.0040 - val_accuracy: 0.9995\n"
     ]
    }
   ],
   "source": [
    "from keras.callbacks import ModelCheckpoint, EarlyStopping\n",
    "\n",
    "checkpoint = ModelCheckpoint(filepath=r\"C:\\Users\\Lenovo\\Desktop\\NEURAL\\vgg19_1.h5\", monitor='val_loss', verbose=1, save_best_only=True, save_weights_only=False, mode='auto')\n",
    "early = EarlyStopping(monitor='val_loss', min_delta=0, patience=3, verbose=1, mode='auto')\n",
    "\n",
    "hist = model.fit(X_train,y_train,\n",
    "                 validation_data= (X_train,y_train),\n",
    "                 steps_per_epoch =X_train.shape[0],\n",
    "                 epochs=10,\n",
    "                 callbacks=[checkpoint,early])"
   ]
  },
  {
   "cell_type": "code",
   "execution_count": 12,
   "metadata": {
    "id": "Fb6nRsHwiSgA"
   },
   "outputs": [],
   "source": []
  },
  {
   "cell_type": "code",
   "execution_count": 12,
   "metadata": {
    "id": "RsU6HeWY0hBe"
   },
   "outputs": [],
   "source": []
  },
  {
   "cell_type": "code",
   "execution_count": null,
   "metadata": {
    "colab": {
     "base_uri": "https://localhost:8080/"
    },
    "id": "5lnOEh8vA3yT",
    "outputId": "7097cc0e-9dff-41e0-be0f-ee39a3404a9c"
   },
   "outputs": [
    {
     "name": "stderr",
     "output_type": "stream",
     "text": [
      "100%|█████████████████████████████████████████████████████████████████████████████| 1300/1300 [00:11<00:00, 110.83it/s]"
     ]
    },
    {
     "name": "stdout",
     "output_type": "stream",
     "text": [
      "(1300, 175, 175, 3)\n"
     ]
    },
    {
     "name": "stderr",
     "output_type": "stream",
     "text": [
      "\n"
     ]
    }
   ],
   "source": [
    "from PIL import Image\n",
    "\n",
    "Test_folder='E:\\Dataset\\Test'\n",
    "IMG_SIZE = 175\n",
    "\n",
    "test_data = []\n",
    "labels = []\n",
    "\n",
    "for img in tqdm(os.listdir(Test_folder)):\n",
    "    path = os.path.join(Test_folder, img)\n",
    "    img_data2 = cv2.imread(path)\n",
    "    try:\n",
    "      img_data2 = cv2.resize(img_data2, (175,175))\n",
    "    except:\n",
    "      im = Image.open(Test_folder+'/'+img)\n",
    "      im.seek(0)\n",
    "      im.save(r\"C:\\Users\\Lenovo\\Desktop\\NEURAL\\img.png\")\n",
    "      img_data2 = cv2.imread(r\"C:\\Users\\Lenovo\\Desktop\\NEURAL\\img.png\")\n",
    "      img_data2 = cv2.resize(img_data2, (175,175))\n",
    "    \n",
    "    test_data.append([np.array(img_data2)])\n",
    "    labels.append(img)\n",
    "    \n",
    "X_data=np.array([test_data]).reshape(-1, 175, 175, 3)\n",
    "\n",
    "print(X_data.shape)"
   ]
  },
  {
   "cell_type": "code",
   "execution_count": null,
   "metadata": {
    "colab": {
     "base_uri": "https://localhost:8080/"
    },
    "id": "iHPiVKTaA_J4",
    "outputId": "f5c7e7ad-f537-4dce-8a6e-499b95536cfd"
   },
   "outputs": [
    {
     "name": "stdout",
     "output_type": "stream",
     "text": [
      "(1300, 175, 175, 3)\n"
     ]
    }
   ],
   "source": [
    "X_data=np.array([test_data]).reshape(-1, 175, 175, 3)\n",
    "\n",
    "print(X_data.shape)"
   ]
  },
  {
   "cell_type": "code",
   "execution_count": null,
   "metadata": {
    "id": "p8GfmtjNBFPn",
    "outputId": "6a93a3cd-6950-44d7-d902-e42a1f4d6719"
   },
   "outputs": [
    {
     "name": "stdout",
     "output_type": "stream",
     "text": [
      "41/41 [==============================] - 198s 5s/step\n"
     ]
    }
   ],
   "source": [
    "from scipy import stats\n",
    "\n",
    "prediction = model.predict([X_data])\n",
    "Final_Data=pd.DataFrame(columns=[\"image_name\",\"label\"])\n",
    "results_counter=0"
   ]
  },
  {
   "cell_type": "code",
   "execution_count": null,
   "metadata": {
    "colab": {
     "base_uri": "https://localhost:8080/"
    },
    "id": "7ZKlcSQ9BLc1",
    "outputId": "c7274d4a-30c0-4e34-cc7b-c048664b22a3"
   },
   "outputs": [
    {
     "name": "stdout",
     "output_type": "stream",
     "text": [
      "         image_name label\n",
      "0        test_1.jpg    10\n",
      "1       test_10.jpg     6\n",
      "2      test_100.jpg     1\n",
      "3     test_1000.jpg     7\n",
      "4     test_1001.jpg     2\n",
      "...             ...   ...\n",
      "1295   test_995.jpg     8\n",
      "1296   test_996.jpg     2\n",
      "1297   test_997.jpg     7\n",
      "1298   test_998.jpg    10\n",
      "1299   test_999.jpg     4\n",
      "\n",
      "[1300 rows x 2 columns]\n"
     ]
    }
   ],
   "source": [
    "ind=0\n",
    "counter=0\n",
    "for x in prediction:\n",
    "  index=0\n",
    "  max=0\n",
    "  max_index=0\n",
    "\n",
    "  for i in x:\n",
    "        if i > max:\n",
    "            max=i\n",
    "            max_index = index\n",
    "        index += 1\n",
    "\n",
    "  Final_Data.loc[ind] = [labels[ind], max_index]  # adding a row\n",
    "  ind+=1\n",
    "\n",
    "print(Final_Data)\n",
    "Final_Data.to_csv(r\"C:\\Users\\Lenovo\\Desktop\\NEURAL\\results\"+str(results_counter)+\".csv\", index=False)\n",
    "results_counter+=1"
   ]
  },
  {
   "cell_type": "code",
   "execution_count": 17,
   "metadata": {
    "colab": {
     "base_uri": "https://localhost:8080/",
     "height": 312
    },
    "id": "iHDbdVv-jn1o",
    "outputId": "b2eacbcf-fc9e-4425-c80d-e2878a35eafb"
   },
   "outputs": [
    {
     "name": "stdout",
     "output_type": "stream",
     "text": [
      "dict_keys(['loss', 'accuracy', 'val_loss', 'val_accuracy'])\n"
     ]
    },
    {
     "data": {
      "image/png": "[encoded data removed]",
      "text/plain": [
       "<Figure size 432x288 with 1 Axes>"
      ]
     },
     "metadata": {
      "needs_background": "light"
     },
     "output_type": "display_data"
    }
   ],
   "source": [
    "import keras\n",
    "from matplotlib import pyplot as plt\n",
    "print(hist.history.keys())\n",
    "plt.plot(hist.history['accuracy'])\n",
    "plt.plot(hist.history['val_accuracy'])\n",
    "plt.title('model accuracy')\n",
    "plt.ylabel('accuracy')\n",
    "plt.xlabel('epoch')\n",
    "plt.legend(['train', 'val'], loc='upper left')\n",
    "plt.show()"
   ]
  },
  {
   "cell_type": "code",
   "execution_count": 18,
   "metadata": {
    "colab": {
     "base_uri": "https://localhost:8080/",
     "height": 295
    },
    "id": "ZJ2zJgcIkhZ-",
    "outputId": "a62fbbda-cafc-4e2c-c06f-800231a8cfc5"
   },
   "outputs": [
    {
     "data": {
      "image/png": "[encoded data removed]",
      "text/plain": [
       "<Figure size 432x288 with 1 Axes>"
      ]
     },
     "metadata": {
      "needs_background": "light"
     },
     "output_type": "display_data"
    }
   ],
   "source": [
    "plt.plot(hist.history['loss'])\n",
    "plt.plot(hist.history['val_loss'])\n",
    "plt.title('model loss')\n",
    "plt.ylabel('loss')\n",
    "plt.xlabel('epoch')\n",
    "plt.legend(['train', 'val'], loc='upper left')\n",
    "plt.show()"
   ]
  }
 ],
 "metadata": {
  "accelerator": "GPU",
  "colab": {
   "collapsed_sections": [],
   "name": "a5er7aga_(1)_(1)_(3).ipynb",
   "provenance": []
  },
  "kernelspec": {
   "display_name": "Python 3 (ipykernel)",
   "language": "python",
   "name": "python3"
  },
  "language_info": {
   "codemirror_mode": {
    "name": "ipython",
    "version": 3
   },
   "file_extension": ".py",
   "mimetype": "text/x-python",
   "name": "python",
   "nbconvert_exporter": "python",
   "pygments_lexer": "ipython3",
   "version": "3.9.12"
  }
 },
 "nbformat": 4,
 "nbformat_minor": 1
}
